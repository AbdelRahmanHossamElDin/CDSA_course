{
 "cells": [
  {
   "cell_type": "markdown",
   "metadata": {},
   "source": [
    "# Circle"
   ]
  },
  {
   "cell_type": "code",
   "execution_count": 1,
   "metadata": {
    "scrolled": true
   },
   "outputs": [
    {
     "name": "stdout",
     "output_type": "stream",
     "text": [
      "Enter your circle redius: 14\n",
      "Your circle circumference is 87.92\n"
     ]
    }
   ],
   "source": [
    "radius = input('Enter your circle redius: ')\n",
    "try:\n",
    "    float(radius)\n",
    "    fl = True\n",
    "except:\n",
    "    fl = False\n",
    "if fl:\n",
    "    print(f'Your circle circumference is {3.14 * 2 * float(radius)}')\n",
    "else:\n",
    "    print('Wrong input')\n",
    "\n",
    "    "
   ]
  },
  {
   "cell_type": "markdown",
   "metadata": {},
   "source": [
    "# Rectangle"
   ]
  },
  {
   "cell_type": "code",
   "execution_count": 4,
   "metadata": {},
   "outputs": [
    {
     "name": "stdout",
     "output_type": "stream",
     "text": [
      "Enter your rectangle lenght: 12.2\n",
      "Enter your rectangle width: 23\n",
      "is float\n",
      "Your rectangle circumference is 58.2\n"
     ]
    }
   ],
   "source": [
    "lenght = input('Enter your rectangle lenght: ')\n",
    "width = input('Enter your rectangle width: ')\n",
    "\n",
    "try:\n",
    "    float(lenght)\n",
    "    leng = True\n",
    "except:\n",
    "    leng = False\n",
    "    \n",
    "try:\n",
    "    float(width)\n",
    "    wid = True\n",
    "except:\n",
    "    wid = False   \n",
    "    \n",
    "if leng and wid:\n",
    "    print(f'Your rectangle circumference is {(float(lenght) + float(width) * 2)}')\n",
    "else:\n",
    "    print('Wrong input')"
   ]
  },
  {
   "cell_type": "markdown",
   "metadata": {},
   "source": [
    "# File handeling"
   ]
  },
  {
   "cell_type": "code",
   "execution_count": 22,
   "metadata": {},
   "outputs": [],
   "source": [
    "myFile = open(\"test.txt\", \"w+\")\n",
    "myFile.write(\"hello world\\n\"*5)\n",
    "myFile.close\n",
    "myFile = open(\"test.txt\", \"w+\")\n",
    "content = myFile.read()\n",
    "myFile.seek(0)\n",
    "myFile.write(content.upper())\n",
    "myFile.seek(0)\n",
    "thirdLine = myFile.readlines()\n",
    "thirdLine[2] = thirdLine[2].capitalize()\n",
    "myFile.seek(0)\n",
    "myFile.writelines(thirdLine)\n",
    "myFile.close()\n",
    "with open(\"test.txt\", \"a+\") as myFile:\n",
    "    myFile.write(\"I Love python\")\n"
   ]
  },
  {
   "cell_type": "code",
   "execution_count": null,
   "metadata": {},
   "outputs": [],
   "source": []
  }
 ],
 "metadata": {
  "kernelspec": {
   "display_name": "Python 3",
   "language": "python",
   "name": "python3"
  },
  "language_info": {
   "codemirror_mode": {
    "name": "ipython",
    "version": 3
   },
   "file_extension": ".py",
   "mimetype": "text/x-python",
   "name": "python",
   "nbconvert_exporter": "python",
   "pygments_lexer": "ipython3",
   "version": "3.7.6"
  }
 },
 "nbformat": 4,
 "nbformat_minor": 4
}
